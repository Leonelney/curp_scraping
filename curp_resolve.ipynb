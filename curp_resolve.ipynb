{
 "cells": [
  {
   "cell_type": "code",
   "execution_count": 15,
   "metadata": {},
   "outputs": [],
   "source": [
    "#system libraries\n",
    "import os\n",
    "import sys\n",
    "import random\n",
    "import time\n",
    "#selenium libraries\n",
    "from selenium import webdriver\n",
    "from selenium.webdriver.common.keys import Keys\n",
    "from selenium.common.exceptions import WebDriverException\n",
    "from selenium.common.exceptions import NoSuchElementException\n",
    "from selenium.common.exceptions import TimeoutException\n",
    "from selenium.webdriver.support.ui import WebDriverWait\n",
    "from selenium.webdriver.support import expected_conditions as EC\n",
    "#recaptcha libraries\n",
    "import speech_recognition as sr\n",
    "import ffmpy\n",
    "import requests\n",
    "import urllib\n",
    "import pydub"
   ]
  },
  {
   "cell_type": "code",
   "execution_count": 3,
   "metadata": {},
   "outputs": [],
   "source": [
    "sys.path.insert(0,'/usr/lib/chromium-browser/chromedriver')"
   ]
  },
  {
   "cell_type": "code",
   "execution_count": 4,
   "metadata": {},
   "outputs": [],
   "source": [
    "curp = input('Enter the CURP: ')"
   ]
  },
  {
   "cell_type": "code",
   "execution_count": 20,
   "metadata": {},
   "outputs": [
    {
     "name": "stdout",
     "output_type": "stream",
     "text": [
      "['OICL980815HDFLNN01', 'LEONEL', 'OLIVARES', 'CONCHILLOS', 'HOMBRE', '15/08/1998', 'MEXICO', 'DISTRITO FEDERAL', 'ACTA DE NACIMIENTO']\n"
     ]
    }
   ],
   "source": [
    "try:\n",
    "    #create chrome driver\n",
    "    driver = webdriver.Chrome('chromedriver')\n",
    "    wait = WebDriverWait(driver, 10)\n",
    "    #go to website\n",
    "    driver.get(\"https://www.gob.mx/curp/\")\n",
    "    # enter the curp in the input\n",
    "    wait.until(EC.presence_of_element_located((\"xpath\",'//*[@id=\"curpinput\"]'))).send_keys(curp)\n",
    "    #switch to recaptcha frame\n",
    "    wait.until(EC.frame_to_be_available_and_switch_to_it((\"xpath\", '//*[@id=\"ember313\"]/div/div/iframe')))\n",
    "    #click on checkbox to activate recaptcha\n",
    "    wait.until(EC.element_to_be_clickable((\"xpath\",'//*[@id=\"recaptcha-anchor\"]/div[1]'))).click()\n",
    "    # if the recaptcha isn't finished on the first try\n",
    "    time.sleep(1)\n",
    "    validar_captcha = wait.until(EC.presence_of_element_located(\n",
    "                                (\"xpath\",'//*[@id=\"recaptcha-anchor\"]/div[1]')\n",
    "                                )).get_attribute('style')\n",
    "    if not validar_captcha == 'display: none;':\n",
    "        #switch to recaptcha audio control frame\n",
    "        driver.switch_to.default_content()\n",
    "        wait.until(EC.frame_to_be_available_and_switch_to_it((\"xpath\",'/html/body/div[3]/div[4]/iframe')))\n",
    "        #click on audio challenge\n",
    "        wait.until(EC.element_to_be_clickable((\"xpath\",'//*[@id=\"recaptcha-audio-button\"]'))).click()\n",
    "        #switch to recaptcha audio challenge frame\n",
    "        driver.switch_to.default_content()\n",
    "        wait.until(EC.frame_to_be_available_and_switch_to_it((\"xpath\",\"/html/body/div[3]/div[4]/iframe\")))\n",
    "        while True:\n",
    "            #get the mp3 audio file\n",
    "            src = wait.until(EC.presence_of_element_located(\n",
    "                            (\"xpath\",'//*[@id=\"audio-source\"]'))).get_attribute(\"src\")\n",
    "            #download the mp3 audio file from the source\n",
    "            urllib.request.urlretrieve(src, \"sample.mp3\")\n",
    "            #convert mp3 to wav\n",
    "            sound = pydub.AudioSegment.from_mp3(\"./sample.mp3\")\n",
    "            sound.export(\"sample.wav\", format=\"wav\")\n",
    "            #translate audio to text with google voice recognition\n",
    "            sample_audio = sr.AudioFile(\"./sample.wav\")\n",
    "            r = sr.Recognizer()\n",
    "            with sample_audio as source:\n",
    "                audio = r.record(source)\n",
    "            key=r.recognize_google(audio)\n",
    "            #key in results and submit\n",
    "            wait.until(EC.presence_of_element_located(\n",
    "                        (\"xpath\",'//*[@id=\"audio-response\"]'))).send_keys(key.lower())\n",
    "            wait.until(EC.presence_of_element_located(\n",
    "                        (\"xpath\",'//*[@id=\"audio-response\"]'))).send_keys(Keys.ENTER)\n",
    "            #if not answered correctly try again\n",
    "            error = wait.until(EC.presence_of_element_located(\n",
    "                                (\"xpath\",'/html/body/div/div/div[1]'))).text\n",
    "            if not error == 'Multiple correct solutions required - please solve more.':\n",
    "                break\n",
    "    #click on submit bottom\n",
    "    driver.switch_to.default_content()\n",
    "    wait.until(EC.element_to_be_clickable((\"xpath\",'//*[@id=\"searchButton\"]'))).click()\n",
    "    #curp don't exist\n",
    "    time.sleep(1)\n",
    "    wait = WebDriverWait(driver, 1)\n",
    "    wait.until(EC.presence_of_element_located((\"xpath\",'//*[@id=\"modalMessage\"]')))\n",
    "    print('CURP no valido.')\n",
    "except NoSuchElementException:\n",
    "    print('error')\n",
    "except TimeoutException:\n",
    "    #extract info\n",
    "    table = driver.find_elements(\"xpath\",'//*[@id=\"ember336\"]/section/div[1]/div/div[2]/form/div[2]/div[1]/div/div[2]/table/tr')\n",
    "    resultados = []\n",
    "    for index in range(len(table)):\n",
    "        values = table[index].find_elements(\"tag name\", \"td\")\n",
    "        resultados.append(values[1].text)\n",
    "    print(resultados)"
   ]
  }
 ],
 "metadata": {
  "kernelspec": {
   "display_name": "Python 3.8.10 ('venv': venv)",
   "language": "python",
   "name": "python3"
  },
  "language_info": {
   "codemirror_mode": {
    "name": "ipython",
    "version": 3
   },
   "file_extension": ".py",
   "mimetype": "text/x-python",
   "name": "python",
   "nbconvert_exporter": "python",
   "pygments_lexer": "ipython3",
   "version": "3.8.10"
  },
  "orig_nbformat": 4,
  "vscode": {
   "interpreter": {
    "hash": "b7ccf80c6e6a9ff087f1821c08c31e61b1890ce97d85c6de9ef2bf5a0540963b"
   }
  }
 },
 "nbformat": 4,
 "nbformat_minor": 2
}
